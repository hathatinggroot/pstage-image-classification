{
 "cells": [
  {
   "cell_type": "markdown",
   "id": "52a58d5b",
   "metadata": {},
   "source": [
    "# EDA (Exploratory Data Analisys)"
   ]
  },
  {
   "cell_type": "markdown",
   "id": "ad3c0b11",
   "metadata": {},
   "source": [
    "## 0. Libarary 불러오기 및 경로설정"
   ]
  },
  {
   "cell_type": "code",
   "execution_count": 137,
   "id": "349e5a2d",
   "metadata": {},
   "outputs": [],
   "source": [
    "# !apt-get install libgl1-mesa-glx\n",
    "# !pip uninstall -y opencv-contrib-python\n",
    "# !pip uninstall -y opencv-python\n",
    "# !pip install opencv-contrib-python\n",
    "# !pip install opencv-python\n",
    "# !pip install seaborn\n",
    "\n",
    "import os\n",
    "import cv2\n",
    "import pandas as pd\n",
    "from PIL import Image\n",
    "import numpy as np\n",
    "\n",
    "import torch\n",
    "import torch.nn as nn\n",
    "import torch.nn.functional as F\n",
    "from torch.utils.data import Dataset, DataLoader\n",
    "\n",
    "from torchvision import transforms\n",
    "from torchvision.transforms import Resize, ToTensor, Normalize\n",
    "\n",
    "import matplotlib.pyplot as plt\n",
    "import seaborn as sns"
   ]
  },
  {
   "cell_type": "code",
   "execution_count": 138,
   "id": "cc198721-be55-403a-8d23-316e100bd954",
   "metadata": {},
   "outputs": [
    {
     "name": "stdout",
     "output_type": "stream",
     "text": [
      "/opt/ml/code\n"
     ]
    }
   ],
   "source": [
    "!pwd\n"
   ]
  },
  {
   "cell_type": "code",
   "execution_count": 139,
   "id": "69f33642",
   "metadata": {},
   "outputs": [],
   "source": [
    "train_dir = '/opt/ml/input/data/train'\n",
    "train_img_dir = os.path.join(train_dir, 'images')\n",
    "train_img_sub_dirs = [os.path.join(train_img_dir, sub_dir) for sub_dir in os.listdir(train_img_dir) if os.path.isdir(os.path.join(train_img_dir, sub_dir))]"
   ]
  },
  {
   "cell_type": "markdown",
   "id": "00b7ceb2",
   "metadata": {},
   "source": [
    "## 1. Input 분석"
   ]
  },
  {
   "cell_type": "markdown",
   "id": "10b68c7f",
   "metadata": {},
   "source": [
    "### 1-0. X load"
   ]
  },
  {
   "cell_type": "code",
   "execution_count": 39,
   "id": "12b2eee3",
   "metadata": {},
   "outputs": [
    {
     "name": "stdout",
     "output_type": "stream",
     "text": [
      "['/opt/ml/input/data/train/images/003790_male_Asian_46/mask1.jpg', '/opt/ml/input/data/train/images/003790_male_Asian_46/mask3.jpg', '/opt/ml/input/data/train/images/003790_male_Asian_46/incorrect_mask.jpg', '/opt/ml/input/data/train/images/003790_male_Asian_46/mask2.jpg', '/opt/ml/input/data/train/images/003790_male_Asian_46/mask5.jpg', '/opt/ml/input/data/train/images/003790_male_Asian_46/mask4.jpg', '/opt/ml/input/data/train/images/003790_male_Asian_46/normal.jpg']\n"
     ]
    }
   ],
   "source": [
    "train_img_paths = [[os.path.join(sub_dir, img) for img in os.listdir(sub_dir) if not img.startswith('.')]  for sub_dir in train_img_sub_dirs]\n",
    "print(train_img_paths[0])"
   ]
  },
  {
   "cell_type": "markdown",
   "id": "1299eb7c",
   "metadata": {},
   "source": [
    "### 1-1. X의 feature"
   ]
  },
  {
   "cell_type": "code",
   "execution_count": 81,
   "id": "0710fc41",
   "metadata": {},
   "outputs": [
    {
     "name": "stdout",
     "output_type": "stream",
     "text": [
      "X_.shape : (512, 384, 3)\n",
      "X.shape : torch.Size([384, 512, 3])\n",
      "X의 채널수 : 3\n",
      "X의 크기 : 384 x 512\n"
     ]
    }
   ],
   "source": [
    "a, b = (np.random.choice(len(train_img_paths)-1, 1)[0], np.random.choice(7, 1)[0])\n",
    "\n",
    "X_ = cv2.imread(train_img_paths[a][b])\n",
    "print(f'X_.shape : {X_.shape}')\n",
    "\n",
    "X = torch.tensor(X_).permute(1, 0, 2)\n",
    "print(f'X.shape : {X.shape}')\n",
    "\n",
    "print(f'X의 채널수 : {X.shape[2]}')\n",
    "print(f'X의 크기 : {X.shape[0]} x {X.shape[1]}')"
   ]
  },
  {
   "cell_type": "markdown",
   "id": "ce0deffe-d794-4e6e-abbc-8934407988e3",
   "metadata": {},
   "source": [
    "### 1-2. X의 사이즈"
   ]
  },
  {
   "cell_type": "code",
   "execution_count": 90,
   "id": "bd41beec-4d0c-46f9-9883-5116f37a5dee",
   "metadata": {},
   "outputs": [
    {
     "data": {
      "image/png": "[encoded data removed]",
      "text/plain": [
       "<Figure size 432x288 with 1 Axes>"
      ]
     },
     "metadata": {
      "needs_background": "light"
     },
     "output_type": "display_data"
    }
   ],
   "source": [
    "for _ in range(1000):\n",
    "    a, b = (np.random.choice(len(train_img_paths)-1, 1)[0], np.random.choice(7, 1)[0])\n",
    "\n",
    "    X_ = cv2.imread(train_img_paths[a][b])\n",
    "\n",
    "\n",
    "    X = torch.tensor(X_).permute(1, 0, 2)\n",
    "    plt.scatter(X.shape[0], X.shape[1])\n",
    "\n",
    "plt.title('Size of Imgages')\n",
    "plt.xlabel('Width')\n",
    "plt.ylabel('Height')\n",
    "plt.show()"
   ]
  },
  {
   "cell_type": "markdown",
   "id": "dabb05bb",
   "metadata": {},
   "source": [
    "### 1-3. 분석 대상이 되는 객체의 위치"
   ]
  },
  {
   "cell_type": "code",
   "execution_count": 94,
   "id": "1af90dd0-85c8-4fba-ad6e-8660adb234d2",
   "metadata": {},
   "outputs": [],
   "source": [
    "#TODO"
   ]
  },
  {
   "cell_type": "markdown",
   "id": "544771b9-5493-41ec-b016-c3e973a88a00",
   "metadata": {},
   "source": [
    "### 1-4. RGB 채널별 통계 값"
   ]
  },
  {
   "cell_type": "code",
   "execution_count": 95,
   "id": "9df69401-8716-47e3-9eea-5e36b387d55f",
   "metadata": {},
   "outputs": [],
   "source": [
    "#TODO"
   ]
  },
  {
   "cell_type": "markdown",
   "id": "340b5e09-6fec-4c33-be6c-cab38cb23cdd",
   "metadata": {},
   "source": [
    "## 2. Output 분석train_img_path"
   ]
  },
  {
   "cell_type": "markdown",
   "id": "7ef86b26-7000-4470-b5da-7c1e31917f16",
   "metadata": {},
   "source": [
    "### 2-1.target이 될 y에 대한 분석\n"
   ]
  },
  {
   "cell_type": "code",
   "execution_count": 150,
   "id": "fe0f1f7e-9495-4972-856a-443c7361db61",
   "metadata": {},
   "outputs": [
    {
     "name": "stdout",
     "output_type": "stream",
     "text": [
      "          id  gender   race  age                    path\n",
      "0     000001  female  Asian   45  000001_female_Asian_45\n",
      "1     000002  female  Asian   52  000002_female_Asian_52\n",
      "2     000004    male  Asian   54    000004_male_Asian_54\n",
      "3     000005  female  Asian   58  000005_female_Asian_58\n",
      "4     000006  female  Asian   59  000006_female_Asian_59\n",
      "...      ...     ...    ...  ...                     ...\n",
      "2695  006954    male  Asian   19    006954_male_Asian_19\n",
      "2696  006955    male  Asian   19    006955_male_Asian_19\n",
      "2697  006956    male  Asian   19    006956_male_Asian_19\n",
      "2698  006957    male  Asian   20    006957_male_Asian_20\n",
      "2699  006959    male  Asian   19    006959_male_Asian_19\n",
      "\n",
      "[2700 rows x 5 columns]\n"
     ]
    }
   ],
   "source": [
    "train_info = pd.read_csv(os.path.join(train_dir, 'train.csv'))\n",
    "print(train_info)"
   ]
  },
  {
   "cell_type": "code",
   "execution_count": 173,
   "id": "f96b911a-c7f6-4f9a-861b-2488225703e5",
   "metadata": {},
   "outputs": [
    {
     "name": "stdout",
     "output_type": "stream",
     "text": [
      "age\n",
      "(0, 30]     1298\n",
      "(30, 60]    1402\n",
      "(60, 90]       0\n",
      "Name: age, dtype: int64\n"
     ]
    }
   ],
   "source": [
    "ratio_age = train_info['age'].groupby(pd.cut(train_info['age'], np.arange(0, 120, 30))).count()\n",
    "print(ratio_age)"
   ]
  },
  {
   "cell_type": "code",
   "execution_count": 170,
   "id": "aa59c6f6-936c-47f8-811e-70595c371e5f",
   "metadata": {},
   "outputs": [
    {
     "data": {
      "text/plain": [
       "array([ 0, 30, 60, 90])"
      ]
     },
     "execution_count": 170,
     "metadata": {},
     "output_type": "execute_result"
    }
   ],
   "source": [
    "np.arange(0, 120, 30)"
   ]
  },
  {
   "cell_type": "code",
   "execution_count": 146,
   "id": "d028606f-3d13-4618-ad5e-783dc833a7a6",
   "metadata": {},
   "outputs": [
    {
     "ename": "ValueError",
     "evalue": "The truth value of a Series is ambiguous. Use a.empty, a.bool(), a.item(), a.any() or a.all().",
     "output_type": "error",
     "traceback": [
      "\u001b[0;31m---------------------------------------------------------------------------\u001b[0m",
      "\u001b[0;31mValueError\u001b[0m                                Traceback (most recent call last)",
      "\u001b[0;32m<ipython-input-146-68949b9acb9d>\u001b[0m in \u001b[0;36m<module>\u001b[0;34m\u001b[0m\n\u001b[1;32m     10\u001b[0m         \u001b[0;32mreturn\u001b[0m \u001b[0;36m2\u001b[0m\u001b[0;34m\u001b[0m\u001b[0;34m\u001b[0m\u001b[0m\n\u001b[1;32m     11\u001b[0m \u001b[0;34m\u001b[0m\u001b[0m\n\u001b[0;32m---> 12\u001b[0;31m \u001b[0mratio_age\u001b[0m \u001b[0;34m=\u001b[0m \u001b[0mtrain_info\u001b[0m\u001b[0;34m[\u001b[0m\u001b[0;34m[\u001b[0m\u001b[0;34m'age'\u001b[0m\u001b[0;34m]\u001b[0m\u001b[0;34m]\u001b[0m\u001b[0;34m.\u001b[0m\u001b[0mapply\u001b[0m\u001b[0;34m(\u001b[0m\u001b[0mage_process\u001b[0m\u001b[0;34m)\u001b[0m\u001b[0;34m\u001b[0m\u001b[0;34m\u001b[0m\u001b[0m\n\u001b[0m\u001b[1;32m     13\u001b[0m \u001b[0;34m\u001b[0m\u001b[0m\n\u001b[1;32m     14\u001b[0m \u001b[0;34m\u001b[0m\u001b[0m\n",
      "\u001b[0;32m/opt/conda/lib/python3.8/site-packages/pandas/core/frame.py\u001b[0m in \u001b[0;36mapply\u001b[0;34m(self, func, axis, raw, result_type, args, **kwds)\u001b[0m\n\u001b[1;32m   7550\u001b[0m             \u001b[0mkwds\u001b[0m\u001b[0;34m=\u001b[0m\u001b[0mkwds\u001b[0m\u001b[0;34m,\u001b[0m\u001b[0;34m\u001b[0m\u001b[0;34m\u001b[0m\u001b[0m\n\u001b[1;32m   7551\u001b[0m         )\n\u001b[0;32m-> 7552\u001b[0;31m         \u001b[0;32mreturn\u001b[0m \u001b[0mop\u001b[0m\u001b[0;34m.\u001b[0m\u001b[0mget_result\u001b[0m\u001b[0;34m(\u001b[0m\u001b[0;34m)\u001b[0m\u001b[0;34m\u001b[0m\u001b[0;34m\u001b[0m\u001b[0m\n\u001b[0m\u001b[1;32m   7553\u001b[0m \u001b[0;34m\u001b[0m\u001b[0m\n\u001b[1;32m   7554\u001b[0m     \u001b[0;32mdef\u001b[0m \u001b[0mapplymap\u001b[0m\u001b[0;34m(\u001b[0m\u001b[0mself\u001b[0m\u001b[0;34m,\u001b[0m \u001b[0mfunc\u001b[0m\u001b[0;34m)\u001b[0m \u001b[0;34m->\u001b[0m \u001b[0;34m\"DataFrame\"\u001b[0m\u001b[0;34m:\u001b[0m\u001b[0;34m\u001b[0m\u001b[0;34m\u001b[0m\u001b[0m\n",
      "\u001b[0;32m/opt/conda/lib/python3.8/site-packages/pandas/core/apply.py\u001b[0m in \u001b[0;36mget_result\u001b[0;34m(self)\u001b[0m\n\u001b[1;32m    183\u001b[0m             \u001b[0;32mreturn\u001b[0m \u001b[0mself\u001b[0m\u001b[0;34m.\u001b[0m\u001b[0mapply_raw\u001b[0m\u001b[0;34m(\u001b[0m\u001b[0;34m)\u001b[0m\u001b[0;34m\u001b[0m\u001b[0;34m\u001b[0m\u001b[0m\n\u001b[1;32m    184\u001b[0m \u001b[0;34m\u001b[0m\u001b[0m\n\u001b[0;32m--> 185\u001b[0;31m         \u001b[0;32mreturn\u001b[0m \u001b[0mself\u001b[0m\u001b[0;34m.\u001b[0m\u001b[0mapply_standard\u001b[0m\u001b[0;34m(\u001b[0m\u001b[0;34m)\u001b[0m\u001b[0;34m\u001b[0m\u001b[0;34m\u001b[0m\u001b[0m\n\u001b[0m\u001b[1;32m    186\u001b[0m \u001b[0;34m\u001b[0m\u001b[0m\n\u001b[1;32m    187\u001b[0m     \u001b[0;32mdef\u001b[0m \u001b[0mapply_empty_result\u001b[0m\u001b[0;34m(\u001b[0m\u001b[0mself\u001b[0m\u001b[0;34m)\u001b[0m\u001b[0;34m:\u001b[0m\u001b[0;34m\u001b[0m\u001b[0;34m\u001b[0m\u001b[0m\n",
      "\u001b[0;32m/opt/conda/lib/python3.8/site-packages/pandas/core/apply.py\u001b[0m in \u001b[0;36mapply_standard\u001b[0;34m(self)\u001b[0m\n\u001b[1;32m    274\u001b[0m \u001b[0;34m\u001b[0m\u001b[0m\n\u001b[1;32m    275\u001b[0m     \u001b[0;32mdef\u001b[0m \u001b[0mapply_standard\u001b[0m\u001b[0;34m(\u001b[0m\u001b[0mself\u001b[0m\u001b[0;34m)\u001b[0m\u001b[0;34m:\u001b[0m\u001b[0;34m\u001b[0m\u001b[0;34m\u001b[0m\u001b[0m\n\u001b[0;32m--> 276\u001b[0;31m         \u001b[0mresults\u001b[0m\u001b[0;34m,\u001b[0m \u001b[0mres_index\u001b[0m \u001b[0;34m=\u001b[0m \u001b[0mself\u001b[0m\u001b[0;34m.\u001b[0m\u001b[0mapply_series_generator\u001b[0m\u001b[0;34m(\u001b[0m\u001b[0;34m)\u001b[0m\u001b[0;34m\u001b[0m\u001b[0;34m\u001b[0m\u001b[0m\n\u001b[0m\u001b[1;32m    277\u001b[0m \u001b[0;34m\u001b[0m\u001b[0m\n\u001b[1;32m    278\u001b[0m         \u001b[0;31m# wrap results\u001b[0m\u001b[0;34m\u001b[0m\u001b[0;34m\u001b[0m\u001b[0;34m\u001b[0m\u001b[0m\n",
      "\u001b[0;32m/opt/conda/lib/python3.8/site-packages/pandas/core/apply.py\u001b[0m in \u001b[0;36mapply_series_generator\u001b[0;34m(self)\u001b[0m\n\u001b[1;32m    303\u001b[0m                 \u001b[0;32mfor\u001b[0m \u001b[0mi\u001b[0m\u001b[0;34m,\u001b[0m \u001b[0mv\u001b[0m \u001b[0;32min\u001b[0m \u001b[0menumerate\u001b[0m\u001b[0;34m(\u001b[0m\u001b[0mseries_gen\u001b[0m\u001b[0;34m)\u001b[0m\u001b[0;34m:\u001b[0m\u001b[0;34m\u001b[0m\u001b[0;34m\u001b[0m\u001b[0m\n\u001b[1;32m    304\u001b[0m                     \u001b[0;31m# ignore SettingWithCopy here in case the user mutates\u001b[0m\u001b[0;34m\u001b[0m\u001b[0;34m\u001b[0m\u001b[0;34m\u001b[0m\u001b[0m\n\u001b[0;32m--> 305\u001b[0;31m                     \u001b[0mresults\u001b[0m\u001b[0;34m[\u001b[0m\u001b[0mi\u001b[0m\u001b[0;34m]\u001b[0m \u001b[0;34m=\u001b[0m \u001b[0mself\u001b[0m\u001b[0;34m.\u001b[0m\u001b[0mf\u001b[0m\u001b[0;34m(\u001b[0m\u001b[0mv\u001b[0m\u001b[0;34m)\u001b[0m\u001b[0;34m\u001b[0m\u001b[0;34m\u001b[0m\u001b[0m\n\u001b[0m\u001b[1;32m    306\u001b[0m                     \u001b[0;32mif\u001b[0m \u001b[0misinstance\u001b[0m\u001b[0;34m(\u001b[0m\u001b[0mresults\u001b[0m\u001b[0;34m[\u001b[0m\u001b[0mi\u001b[0m\u001b[0;34m]\u001b[0m\u001b[0;34m,\u001b[0m \u001b[0mABCSeries\u001b[0m\u001b[0;34m)\u001b[0m\u001b[0;34m:\u001b[0m\u001b[0;34m\u001b[0m\u001b[0;34m\u001b[0m\u001b[0m\n\u001b[1;32m    307\u001b[0m                         \u001b[0;31m# If we have a view on v, we need to make a copy because\u001b[0m\u001b[0;34m\u001b[0m\u001b[0;34m\u001b[0m\u001b[0;34m\u001b[0m\u001b[0m\n",
      "\u001b[0;32m<ipython-input-146-68949b9acb9d>\u001b[0m in \u001b[0;36mage_process\u001b[0;34m(x)\u001b[0m\n\u001b[1;32m      3\u001b[0m \u001b[0;34m\u001b[0m\u001b[0m\n\u001b[1;32m      4\u001b[0m \u001b[0;32mdef\u001b[0m \u001b[0mage_process\u001b[0m\u001b[0;34m(\u001b[0m\u001b[0mx\u001b[0m\u001b[0;34m:\u001b[0m \u001b[0mint\u001b[0m\u001b[0;34m)\u001b[0m \u001b[0;34m->\u001b[0m \u001b[0mint\u001b[0m\u001b[0;34m:\u001b[0m\u001b[0;34m\u001b[0m\u001b[0;34m\u001b[0m\u001b[0m\n\u001b[0;32m----> 5\u001b[0;31m     \u001b[0;32mif\u001b[0m \u001b[0mx\u001b[0m\u001b[0;34m<\u001b[0m\u001b[0;36m30\u001b[0m\u001b[0;34m:\u001b[0m\u001b[0;34m\u001b[0m\u001b[0;34m\u001b[0m\u001b[0m\n\u001b[0m\u001b[1;32m      6\u001b[0m         \u001b[0;32mreturn\u001b[0m \u001b[0;36m0\u001b[0m\u001b[0;34m\u001b[0m\u001b[0;34m\u001b[0m\u001b[0m\n\u001b[1;32m      7\u001b[0m     \u001b[0;32melif\u001b[0m \u001b[0;36m30\u001b[0m\u001b[0;34m<=\u001b[0m\u001b[0mx\u001b[0m\u001b[0;34m<\u001b[0m\u001b[0;36m60\u001b[0m\u001b[0;34m:\u001b[0m\u001b[0;34m\u001b[0m\u001b[0;34m\u001b[0m\u001b[0m\n",
      "\u001b[0;32m/opt/conda/lib/python3.8/site-packages/pandas/core/generic.py\u001b[0m in \u001b[0;36m__nonzero__\u001b[0;34m(self)\u001b[0m\n\u001b[1;32m   1327\u001b[0m \u001b[0;34m\u001b[0m\u001b[0m\n\u001b[1;32m   1328\u001b[0m     \u001b[0;32mdef\u001b[0m \u001b[0m__nonzero__\u001b[0m\u001b[0;34m(\u001b[0m\u001b[0mself\u001b[0m\u001b[0;34m)\u001b[0m\u001b[0;34m:\u001b[0m\u001b[0;34m\u001b[0m\u001b[0;34m\u001b[0m\u001b[0m\n\u001b[0;32m-> 1329\u001b[0;31m         raise ValueError(\n\u001b[0m\u001b[1;32m   1330\u001b[0m             \u001b[0;34mf\"The truth value of a {type(self).__name__} is ambiguous. \"\u001b[0m\u001b[0;34m\u001b[0m\u001b[0;34m\u001b[0m\u001b[0m\n\u001b[1;32m   1331\u001b[0m             \u001b[0;34m\"Use a.empty, a.bool(), a.item(), a.any() or a.all().\"\u001b[0m\u001b[0;34m\u001b[0m\u001b[0;34m\u001b[0m\u001b[0m\n",
      "\u001b[0;31mValueError\u001b[0m: The truth value of a Series is ambiguous. Use a.empty, a.bool(), a.item(), a.any() or a.all()."
     ]
    }
   ],
   "source": [
    "# 클래스 요소인 gender 분포\n",
    "ratio_gender = train_info[['gender', 'path']].groupby(['gender']).count().to_dict()['path']\n",
    "\n",
    "def age_process(x: int) -> int:\n",
    "    if x<30:\n",
    "        return 0\n",
    "    elif 30<=x<60:\n",
    "        return 1\n",
    "    else:\n",
    "        return 2\n",
    "    \n",
    "ratio_age = train_info[['age']].apply(age_process)\n",
    "\n",
    "\n",
    "ratio_age = train_info[['age', 'path']].groupby(['age']).count().to_dict()['path']\n",
    "\n",
    "\n",
    "fig, axs = plt.subplots(2,2)\n",
    "\n",
    "axs[0, 0].pie(ratio_gender.values(), labels=ratio_gender.keys(), autopct='%1.1f%%')\n",
    "axs[0, 1].pie(ratio_age.values(), labels=ratio_age.keys(), autopct='%1.1f%%')\n",
    "\n",
    "plt.show()\n",
    "\n",
    "\n",
    "\n"
   ]
  },
  {
   "cell_type": "markdown",
   "id": "84b8436d",
   "metadata": {},
   "source": [
    "## 3. 관계 분석"
   ]
  },
  {
   "cell_type": "code",
   "execution_count": 113,
   "id": "b7da5bdf",
   "metadata": {},
   "outputs": [
    {
     "ename": "FileNotFoundError",
     "evalue": "[Errno 2] No such file or directory: '../data/train/train/images'",
     "output_type": "error",
     "traceback": [
      "\u001b[0;31m---------------------------------------------------------------------------\u001b[0m",
      "\u001b[0;31mFileNotFoundError\u001b[0m                         Traceback (most recent call last)",
      "\u001b[0;32m<ipython-input-113-5d5297126511>\u001b[0m in \u001b[0;36m<module>\u001b[0;34m\u001b[0m\n\u001b[1;32m      2\u001b[0m \u001b[0mtrain_image_dir\u001b[0m \u001b[0;34m=\u001b[0m \u001b[0mos\u001b[0m\u001b[0;34m.\u001b[0m\u001b[0mpath\u001b[0m\u001b[0;34m.\u001b[0m\u001b[0mjoin\u001b[0m\u001b[0;34m(\u001b[0m\u001b[0mtrain_dir\u001b[0m\u001b[0;34m,\u001b[0m \u001b[0;34m'images'\u001b[0m\u001b[0;34m)\u001b[0m\u001b[0;34m\u001b[0m\u001b[0;34m\u001b[0m\u001b[0m\n\u001b[1;32m      3\u001b[0m \u001b[0;34m\u001b[0m\u001b[0m\n\u001b[0;32m----> 4\u001b[0;31m \u001b[0mdata_per_person\u001b[0m \u001b[0;34m=\u001b[0m \u001b[0mos\u001b[0m\u001b[0;34m.\u001b[0m\u001b[0mlistdir\u001b[0m\u001b[0;34m(\u001b[0m\u001b[0mtrain_image_dir\u001b[0m\u001b[0;34m)\u001b[0m\u001b[0;34m\u001b[0m\u001b[0;34m\u001b[0m\u001b[0m\n\u001b[0m\u001b[1;32m      5\u001b[0m \u001b[0mtrain_info_path\u001b[0m \u001b[0;34m=\u001b[0m \u001b[0mos\u001b[0m\u001b[0;34m.\u001b[0m\u001b[0mpath\u001b[0m\u001b[0;34m.\u001b[0m\u001b[0mjoin\u001b[0m\u001b[0;34m(\u001b[0m\u001b[0mtrain_dir\u001b[0m\u001b[0;34m,\u001b[0m \u001b[0;34m'train.csv'\u001b[0m\u001b[0;34m)\u001b[0m\u001b[0;34m\u001b[0m\u001b[0;34m\u001b[0m\u001b[0m\n\u001b[1;32m      6\u001b[0m \u001b[0mtrain_info\u001b[0m \u001b[0;34m=\u001b[0m \u001b[0mpd\u001b[0m\u001b[0;34m.\u001b[0m\u001b[0mread_csv\u001b[0m\u001b[0;34m(\u001b[0m\u001b[0mtrain_info_path\u001b[0m\u001b[0;34m)\u001b[0m\u001b[0;34m\u001b[0m\u001b[0;34m\u001b[0m\u001b[0m\n",
      "\u001b[0;31mFileNotFoundError\u001b[0m: [Errno 2] No such file or directory: '../data/train/train/images'"
     ]
    }
   ],
   "source": [
    "train_dir = '../data/train/train'\n",
    "train_image_dir = os.path.join(train_dir, 'images')\n",
    "\n",
    "data_per_person = os.listdir(train_image_dir)\n",
    "train_info_path = os.path.join(train_dir, 'train.csv')\n",
    "train_info = pd.read_csv(train_info_path) \n",
    "print(train_info)"
   ]
  },
  {
   "cell_type": "code",
   "execution_count": null,
   "id": "bacc139b-67ff-4efe-b1e0-35837f4a6f74",
   "metadata": {},
   "outputs": [],
   "source": []
  },
  {
   "cell_type": "code",
   "execution_count": 210,
   "id": "3668d1bc",
   "metadata": {},
   "outputs": [
    {
     "name": "stdout",
     "output_type": "stream",
     "text": [
      "       id  gender   race  age                    path\n",
      "0  000001  female  Asian   45  000001_female_Asian_45\n",
      "   gender  age\n",
      "0  female   45\n",
      "   gender  age\n",
      "0  female   45\n",
      "\n",
      "female 45\n"
     ]
    }
   ],
   "source": [
    "qr = train_info[train_info.path == '000001_female_Asian_45']\n",
    "print(qr)\n",
    "\n",
    "print(qr[['gender', 'age']])\n",
    "a  = qr[['gender', 'age']]\n",
    "print(a)\n",
    "print()\n",
    "[x, y] = a.values[0]\n",
    "print(x, y)\n"
   ]
  },
  {
   "cell_type": "code",
   "execution_count": 163,
   "id": "6187124b",
   "metadata": {},
   "outputs": [
    {
     "name": "stdout",
     "output_type": "stream",
     "text": [
      "2700\n",
      "2700\n",
      "True\n",
      "False\n"
     ]
    }
   ],
   "source": [
    "# train.csv의 path 정보와 실제 이미지 정보 일치 여부 확인\n",
    "\n",
    "from collections import Counter\n",
    "\n",
    "c_from_dir = Counter(data_per_person)\n",
    "print(len(c_from_dir))\n",
    "\n",
    "c_from_csv = Counter(train_info['path'].unique())\n",
    "print(len(c_from_csv))\n",
    "\n",
    "print(c_from_csv == c_from_dir)\n",
    "\n",
    "print(any(filter(lambda a: a != 1, c_from_csv.values())))\n",
    "\n",
    "train_image_sub_dirs = [os.path.join(train_image_dir, sub_dir) for sub_dir in train_info['path'].unique()]\n",
    "\n"
   ]
  },
  {
   "cell_type": "code",
   "execution_count": 86,
   "id": "cfda3fe8",
   "metadata": {},
   "outputs": [
    {
     "name": "stdout",
     "output_type": "stream",
     "text": [
      "파일 이름 : \n",
      "Counter({'incorrect_mask': 2700, 'mask4': 2700, 'mask5': 2700, 'mask1': 2700, 'normal': 2700, 'mask2': 2700, 'mask3': 2700})\n",
      "확장자 : \n",
      "Counter({'jpg': 18035, 'png': 511, 'jpeg': 354})\n"
     ]
    }
   ],
   "source": [
    "# 사람별 사진 파일 이름과 확장자 확인\n",
    "\n",
    "c_pic_names = Counter()\n",
    "c_pic_ext = Counter()\n",
    "train_image_paths = []\n",
    "\n",
    "def updateCount(fileName):\n",
    "    name, ext = tuple(fileName.split('.'))\n",
    "    \n",
    "    c_pic_names.update([name])\n",
    "    c_pic_ext.update([ext])\n",
    "\n",
    "\n",
    "for i in range(len(train_image_sub_dirs)):\n",
    "    sub_dirs = os.listdir(train_image_sub_dirs[i])\n",
    "    \n",
    "    for sub_dir in sub_dirs:\n",
    "        train_image_paths.append(os.path.join(train_image_sub_dirs[i], sub_dir))\n",
    "        updateCount(sub_dir)\n",
    "    \n",
    "print(f'파일 이름 : \\n{c_pic_names}')\n",
    "print(f'확장자 : \\n{c_pic_ext}')\n",
    "\n"
   ]
  },
  {
   "cell_type": "code",
   "execution_count": 105,
   "id": "9acf9798",
   "metadata": {},
   "outputs": [
    {
     "name": "stdout",
     "output_type": "stream",
     "text": [
      "Counter({torch.Size([3, 512, 384]): 18900})\n"
     ]
    }
   ],
   "source": [
    "# input (X) 분석\n",
    "t_train_images = []\n",
    "c_dims = Counter()\n",
    "\n",
    "for train_image_path in train_image_paths:\n",
    "    image = Image.open(train_image_path)\n",
    "    t_image = transforms.ToTensor()(image)\n",
    "    t_train_images.append(t_image)\n",
    "    c_dims.update([t_image.shape])\n",
    "    \n",
    "print(c_dims)\n",
    "\n",
    "\n"
   ]
  },
  {
   "cell_type": "code",
   "execution_count": 220,
   "id": "80634647",
   "metadata": {},
   "outputs": [
    {
     "name": "stdout",
     "output_type": "stream",
     "text": [
      "incorrect_mask\n",
      "<__main__.Classifier object at 0x7fee40978190>\n",
      "torch.Size([3, 512, 384])\n",
      "tensor([[[ 1.2451,  1.2451,  1.2451,  ...,  1.4412,  1.4412,  1.4412],\n",
      "         [ 1.2451,  1.2451,  1.2451,  ...,  1.4412,  1.4412,  1.4412],\n",
      "         [ 1.2451,  1.2451,  1.2451,  ...,  1.4412,  1.4412,  1.4412],\n",
      "         ...,\n",
      "         [ 0.4216,  0.4412,  0.4412,  ...,  0.4608,  0.4608,  0.4608],\n",
      "         [ 0.3627,  0.3627,  0.3627,  ...,  0.4804,  0.4804,  0.4804],\n",
      "         [ 0.3039,  0.3039,  0.3039,  ...,  0.5392,  0.5392,  0.5392]],\n",
      "\n",
      "        [[ 1.2255,  1.2255,  1.2255,  ...,  1.4216,  1.4216,  1.4216],\n",
      "         [ 1.2255,  1.2255,  1.2255,  ...,  1.4216,  1.4216,  1.4216],\n",
      "         [ 1.2255,  1.2255,  1.2255,  ...,  1.4216,  1.4216,  1.4216],\n",
      "         ...,\n",
      "         [-0.5980, -0.5784, -0.5784,  ..., -0.6569, -0.6569, -0.6569],\n",
      "         [-0.6569, -0.6569, -0.6569,  ..., -0.6373, -0.6373, -0.6373],\n",
      "         [-0.7157, -0.7157, -0.7157,  ..., -0.6569, -0.6569, -0.6569]],\n",
      "\n",
      "        [[ 1.1275,  1.1275,  1.1275,  ...,  1.3235,  1.3235,  1.3235],\n",
      "         [ 1.1275,  1.1275,  1.1275,  ...,  1.3235,  1.3235,  1.3235],\n",
      "         [ 1.1275,  1.1275,  1.1275,  ...,  1.3235,  1.3235,  1.3235],\n",
      "         ...,\n",
      "         [-1.3235, -1.3039, -1.3039,  ..., -1.2451, -1.2451, -1.2451],\n",
      "         [-1.3824, -1.3824, -1.3824,  ..., -1.1667, -1.1667, -1.1667],\n",
      "         [-1.4412, -1.4412, -1.4412,  ..., -1.0686, -1.0686, -1.0686]]])\n",
      "10\n"
     ]
    },
    {
     "name": "stderr",
     "output_type": "stream",
     "text": [
      "/Users/hhgroot/opt/anaconda3/lib/python3.8/site-packages/torchvision/transforms/transforms.py:280: UserWarning: Argument interpolation should be of type InterpolationMode instead of int. Please, use InterpolationMode enum.\n",
      "  warnings.warn(\n"
     ]
    }
   ],
   "source": [
    "transform = transforms.Compose([\n",
    "    Resize((512, 384), Image.BILINEAR),\n",
    "    ToTensor(),\n",
    "    Normalize(mean=(0.5, 0.5, 0.5), std=(0.2, 0.2, 0.2)),\n",
    "])\n",
    "\n",
    "train_dataset = TrainDataset(train_info_path, train_image_paths, transform)\n",
    "X, y = next(iter(train_dataset))\n",
    "\n",
    "print(X.shape)\n",
    "print(X)\n",
    "print(y)\n",
    "\n",
    "\n"
   ]
  },
  {
   "cell_type": "code",
   "execution_count": null,
   "id": "af1fd7dd",
   "metadata": {},
   "outputs": [],
   "source": []
  },
  {
   "cell_type": "code",
   "execution_count": null,
   "id": "e744ba5b",
   "metadata": {},
   "outputs": [],
   "source": [
    "class Classifier():\n",
    "    def __init__(self, gender: str, age: int, classValue: str ):\n",
    "        self.mask = self._toMask(classValue)\n",
    "        self.gender = gender\n",
    "        self.age = self._toAge(age)\n",
    "\n",
    "    def _toMask(self, classValue) -> str:\n",
    "        if classValue == 'incorrect_mask':\n",
    "            return 'Incorrect'\n",
    "        elif classValue == 'normal':\n",
    "            return 'Not Wear'\n",
    "        else :\n",
    "            return 'Wear'\n",
    "    \n",
    "    def _toAge(self, age: int):\n",
    "        if age < 30:\n",
    "            return 0\n",
    "        elif age >= 60:\n",
    "            return 2\n",
    "        else:\n",
    "            return 1\n",
    "\n",
    "    def get_class(self):\n",
    "        y = 0\n",
    "        if self.mask == 'Incorrect':\n",
    "            y += 6\n",
    "        elif self.mask == 'Not Wear':\n",
    "            y += 12\n",
    "        \n",
    "        if self.gender == 'female':\n",
    "            y += 3\n",
    "        \n",
    "        y += self.age\n",
    "\n",
    "        return y\n",
    "\n",
    "\n",
    "class TrainDataset(Dataset):\n",
    "    def __init__(self, info_path: str, img_paths: str, transform: transforms.Compose):\n",
    "        self.info = pd.read_csv(os.path.join(info_path))\n",
    "        self.img_paths = img_paths\n",
    "        self.transform = transform\n",
    "        self.classes = [i for i in range(18)]\n",
    "\n",
    "    def __getitem__(self, index):\n",
    "        image_path = self.img_paths[index]\n",
    "        image = Image.open(image_path)\n",
    "        \n",
    "        dirName, fileName = os.path.split(image_path)\n",
    "        _, person = os.path.split(dirName)\n",
    "        classValue, ext = fileName.split('.')\n",
    "        \n",
    "        print(classValue)\n",
    "        if self.transform:\n",
    "            image = self.transform(image)\n",
    "        return image, self._toY(person, classValue)\n",
    "\n",
    "    def __len__(self):\n",
    "        return len(self.img_paths)\n",
    "    \n",
    "    def _toY(self, person, classValue) -> torch.Tensor:\n",
    "        qr = self.info[self.info.path == person]\n",
    "        gender, age = qr[['gender', 'age']].values[0]\n",
    "        classifier = Classifier(gender=gender, age=age, classValue=classValue)\n",
    "        print(classifier)\n",
    "        return classifier.get_class()"
   ]
  }
 ],
 "metadata": {
  "interpreter": {
   "hash": "c38145f413ce776b877e82b073413462501d42396f9d94a4b38839b8b8b6419c"
  },
  "kernelspec": {
   "display_name": "Python 3 (ipykernel)",
   "language": "python",
   "name": "python3"
  },
  "language_info": {
   "codemirror_mode": {
    "name": "ipython",
    "version": 3
   },
   "file_extension": ".py",
   "mimetype": "text/x-python",
   "name": "python",
   "nbconvert_exporter": "python",
   "pygments_lexer": "ipython3",
   "version": "3.8.5"
  }
 },
 "nbformat": 4,
 "nbformat_minor": 5
}

{
 "cells": [
  {
   "cell_type": "markdown",
   "id": "eb8c9bd8",
   "metadata": {},
   "source": [
    "# Train"
   ]
  },
  {
   "cell_type": "markdown",
   "id": "f822da93",
   "metadata": {},
   "source": [
    "## 0. Dependencies"
   ]
  },
  {
   "cell_type": "code",
   "execution_count": 20,
   "id": "bf587d83",
   "metadata": {},
   "outputs": [
    {
     "ename": "ImportError",
     "evalue": "Could not import /opt/ml/code/dataprocessing.ipynb for ipynb.fs.full.dataprocessing: incorrect version or language",
     "output_type": "error",
     "traceback": [
      "\u001b[0;31m---------------------------------------------------------------------------\u001b[0m",
      "\u001b[0;31mImportError\u001b[0m                               Traceback (most recent call last)",
      "\u001b[0;32m/tmp/ipykernel_44912/2253075478.py\u001b[0m in \u001b[0;36m<module>\u001b[0;34m\u001b[0m\n\u001b[1;32m     21\u001b[0m \u001b[0;34m\u001b[0m\u001b[0m\n\u001b[1;32m     22\u001b[0m \u001b[0;32mimport\u001b[0m \u001b[0mipynb\u001b[0m\u001b[0;34m.\u001b[0m\u001b[0mfs\u001b[0m\u001b[0;34m.\u001b[0m\u001b[0mfull\u001b[0m\u001b[0;34m.\u001b[0m\u001b[0mmodel\u001b[0m \u001b[0;32mas\u001b[0m \u001b[0mM\u001b[0m\u001b[0;34m\u001b[0m\u001b[0;34m\u001b[0m\u001b[0m\n\u001b[0;32m---> 23\u001b[0;31m \u001b[0;32mimport\u001b[0m \u001b[0mipynb\u001b[0m\u001b[0;34m.\u001b[0m\u001b[0mfs\u001b[0m\u001b[0;34m.\u001b[0m\u001b[0mfull\u001b[0m\u001b[0;34m.\u001b[0m\u001b[0mdataprocessing\u001b[0m \u001b[0;32mas\u001b[0m \u001b[0mD\u001b[0m\u001b[0;34m\u001b[0m\u001b[0;34m\u001b[0m\u001b[0m\n\u001b[0m",
      "\u001b[0;32m/opt/conda/lib/python3.8/site-packages/ipynb/fs/full/__init__.py\u001b[0m in \u001b[0;36mget_code\u001b[0;34m(self, fullname)\u001b[0m\n",
      "\u001b[0;31mImportError\u001b[0m: Could not import /opt/ml/code/dataprocessing.ipynb for ipynb.fs.full.dataprocessing: incorrect version or language"
     ]
    }
   ],
   "source": [
    "# !pip uninstall -y ipynb\n",
    "# !pip install  -y ipynb\n",
    "\n",
    "import os\n",
    "import cv2\n",
    "import pandas as pd\n",
    "from PIL import Image\n",
    "import numpy as np\n",
    "\n",
    "import torch\n",
    "import torch.nn as nn\n",
    "import torch.nn.functional as F\n",
    "from torch.utils.data import Dataset, DataLoader\n",
    "\n",
    "from torchvision import transforms\n",
    "from torchvision.transforms import Resize, ToTensor, Normalize\n",
    "\n",
    "import matplotlib.pyplot as plt\n",
    "import seaborn as sns\n",
    "from tqdm.notebook import tqdm\n",
    "\n",
    "import ipynb.fs.full.model as M\n",
    "import ipynb.fs.full.dataprocessing as D"
   ]
  },
  {
   "cell_type": "markdown",
   "id": "9fc20235",
   "metadata": {},
   "source": [
    "## 1. Train"
   ]
  },
  {
   "cell_type": "code",
   "execution_count": null,
   "id": "266d487d",
   "metadata": {},
   "outputs": [
    {
     "name": "stdout",
     "output_type": "stream",
     "text": [
      "cuda:0\n"
     ]
    }
   ],
   "source": [
    "device = torch.device('cuda:0' if torch.cuda.is_available() else 'cpu')\n",
    "print(device)"
   ]
  },
  {
   "cell_type": "code",
   "execution_count": null,
   "id": "a59da0a0",
   "metadata": {},
   "outputs": [
    {
     "name": "stdout",
     "output_type": "stream",
     "text": [
      "Done\n"
     ]
    }
   ],
   "source": [
    "def func_eval(model,data_iter,device):\n",
    "    with torch.no_grad():\n",
    "        n_total,n_correct = 0,0\n",
    "        model.eval() # evaluate (affects DropOut and BN)\n",
    "        for batch_in,batch_out in data_iter:\n",
    "            y_trgt = batch_out.to(device)\n",
    "            model_pred = model.forward(batch_in.to(device))\n",
    "            _,y_pred = torch.max(model_pred,1)\n",
    "            n_correct += (y_pred==y_trgt).sum().item()\n",
    "            n_total += batch_in.size(0)\n",
    "        val_accr = (n_correct/n_total)\n",
    "        model.train() # back to train mode \n",
    "    return val_accr\n",
    "print (\"Done\")"
   ]
  },
  {
   "cell_type": "markdown",
   "id": "7eba98db",
   "metadata": {},
   "source": [
    "### Hyper Params"
   ]
  },
  {
   "cell_type": "code",
   "execution_count": null,
   "id": "6e515971",
   "metadata": {},
   "outputs": [],
   "source": [
    "\n",
    "lr = 1e-3\n",
    "model = M.MyModel().to(device)\n",
    "loss_fn = nn.CrossEntropyLoss()\n",
    "optimzier = torch.optim.Adam(model.parameters(), lr=lr)\n",
    "\n",
    "EPOCHS = 100\n",
    "EPOCH_EVERY = 10"
   ]
  },
  {
   "cell_type": "code",
   "execution_count": null,
   "id": "52de7520",
   "metadata": {},
   "outputs": [],
   "source": [
    "train_accr = func_eval(model, "
   ]
  },
  {
   "cell_type": "code",
   "execution_count": null,
   "id": "e0c85a40",
   "metadata": {},
   "outputs": [],
   "source": [
    "print('Start training...')\n",
    "model.train()\n",
    "for epoch in range(EPOCHS):\n",
    "    loss_sum = 0\n",
    "    for X, y in D.train_img_iter_basic:\n",
    "        y_hat = model(X.to(device))\n",
    "        loss_out = loss_fn(y, y_hat.to(device))\n",
    "        \n",
    "        optimizer.zero_grad()\n",
    "        loss_out.backward()\n",
    "        optimizer.step()\n",
    "        \n",
    "        loss_sum += loss_out\n",
    "    loss_avg = loss_sum / len(D.train_img_iter_basic)\n",
    "    \n",
    "    if (epoch & EPOCH_EVERY == 0) or epoch==EPOCH-1:\n",
    "        \n",
    "        \n"
   ]
  }
 ],
 "metadata": {
  "interpreter": {
   "hash": "98b0a9b7b4eaaa670588a142fd0a9b87eaafe866f1db4228be72b4211d12040f"
  },
  "kernelspec": {
   "display_name": "Python 3 (ipykernel)",
   "language": "python",
   "name": "python3"
  },
  "language_info": {
   "codemirror_mode": {
    "name": "ipython",
    "version": 3
   },
   "file_extension": ".py",
   "mimetype": "text/x-python",
   "name": "python",
   "nbconvert_exporter": "python",
   "pygments_lexer": "ipython3",
   "version": "3.8.5"
  }
 },
 "nbformat": 4,
 "nbformat_minor": 5
}

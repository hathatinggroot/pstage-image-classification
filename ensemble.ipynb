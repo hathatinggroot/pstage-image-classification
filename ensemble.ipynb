{
 "cells": [
  {
   "cell_type": "code",
   "execution_count": 1,
   "source": [
    "import os\n",
    "import pandas as pd"
   ],
   "outputs": [],
   "metadata": {}
  },
  {
   "cell_type": "code",
   "execution_count": 2,
   "source": [
    "test_dir = '/opt/ml/input/data/eval'\n",
    "model_dir = '/opt/ml/code/out/models'\n",
    "out_dir = '/opt/ml/code/out/submission'\n",
    "try_cnt = 5"
   ],
   "outputs": [],
   "metadata": {}
  },
  {
   "cell_type": "code",
   "execution_count": 3,
   "source": [
    "submission = pd.read_csv(os.path.join(test_dir, 'info.csv'))\n",
    "submission"
   ],
   "outputs": [
    {
     "output_type": "execute_result",
     "data": {
      "text/plain": [
       "                                            ImageID  ans\n",
       "0      cbc5c6e168e63498590db46022617123f1fe1268.jpg    0\n",
       "1      0e72482bf56b3581c081f7da2a6180b8792c7089.jpg    0\n",
       "2      b549040c49190cedc41327748aeb197c1670f14d.jpg    0\n",
       "3      4f9cb2a045c6d5b9e50ad3459ea7b791eb6e18bc.jpg    0\n",
       "4      248428d9a4a5b6229a7081c32851b90cb8d38d0c.jpg    0\n",
       "...                                             ...  ...\n",
       "12595  d71d4570505d6af8f777690e63edfa8d85ea4476.jpg    0\n",
       "12596  6cf1300e8e218716728d5820c0bab553306c2cfd.jpg    0\n",
       "12597  8140edbba31c3a824e817e6d5fb95343199e2387.jpg    0\n",
       "12598  030d439efe6fb5a7bafda45a393fc19f2bf57f54.jpg    0\n",
       "12599  f1e0b9594ae9f72571f0a9dc67406ad41f2edab0.jpg    0\n",
       "\n",
       "[12600 rows x 2 columns]"
      ],
      "text/html": [
       "<div>\n",
       "<style scoped>\n",
       "    .dataframe tbody tr th:only-of-type {\n",
       "        vertical-align: middle;\n",
       "    }\n",
       "\n",
       "    .dataframe tbody tr th {\n",
       "        vertical-align: top;\n",
       "    }\n",
       "\n",
       "    .dataframe thead th {\n",
       "        text-align: right;\n",
       "    }\n",
       "</style>\n",
       "<table border=\"1\" class=\"dataframe\">\n",
       "  <thead>\n",
       "    <tr style=\"text-align: right;\">\n",
       "      <th></th>\n",
       "      <th>ImageID</th>\n",
       "      <th>ans</th>\n",
       "    </tr>\n",
       "  </thead>\n",
       "  <tbody>\n",
       "    <tr>\n",
       "      <th>0</th>\n",
       "      <td>cbc5c6e168e63498590db46022617123f1fe1268.jpg</td>\n",
       "      <td>0</td>\n",
       "    </tr>\n",
       "    <tr>\n",
       "      <th>1</th>\n",
       "      <td>0e72482bf56b3581c081f7da2a6180b8792c7089.jpg</td>\n",
       "      <td>0</td>\n",
       "    </tr>\n",
       "    <tr>\n",
       "      <th>2</th>\n",
       "      <td>b549040c49190cedc41327748aeb197c1670f14d.jpg</td>\n",
       "      <td>0</td>\n",
       "    </tr>\n",
       "    <tr>\n",
       "      <th>3</th>\n",
       "      <td>4f9cb2a045c6d5b9e50ad3459ea7b791eb6e18bc.jpg</td>\n",
       "      <td>0</td>\n",
       "    </tr>\n",
       "    <tr>\n",
       "      <th>4</th>\n",
       "      <td>248428d9a4a5b6229a7081c32851b90cb8d38d0c.jpg</td>\n",
       "      <td>0</td>\n",
       "    </tr>\n",
       "    <tr>\n",
       "      <th>...</th>\n",
       "      <td>...</td>\n",
       "      <td>...</td>\n",
       "    </tr>\n",
       "    <tr>\n",
       "      <th>12595</th>\n",
       "      <td>d71d4570505d6af8f777690e63edfa8d85ea4476.jpg</td>\n",
       "      <td>0</td>\n",
       "    </tr>\n",
       "    <tr>\n",
       "      <th>12596</th>\n",
       "      <td>6cf1300e8e218716728d5820c0bab553306c2cfd.jpg</td>\n",
       "      <td>0</td>\n",
       "    </tr>\n",
       "    <tr>\n",
       "      <th>12597</th>\n",
       "      <td>8140edbba31c3a824e817e6d5fb95343199e2387.jpg</td>\n",
       "      <td>0</td>\n",
       "    </tr>\n",
       "    <tr>\n",
       "      <th>12598</th>\n",
       "      <td>030d439efe6fb5a7bafda45a393fc19f2bf57f54.jpg</td>\n",
       "      <td>0</td>\n",
       "    </tr>\n",
       "    <tr>\n",
       "      <th>12599</th>\n",
       "      <td>f1e0b9594ae9f72571f0a9dc67406ad41f2edab0.jpg</td>\n",
       "      <td>0</td>\n",
       "    </tr>\n",
       "  </tbody>\n",
       "</table>\n",
       "<p>12600 rows × 2 columns</p>\n",
       "</div>"
      ]
     },
     "metadata": {},
     "execution_count": 3
    }
   ],
   "metadata": {}
  },
  {
   "cell_type": "code",
   "execution_count": 4,
   "source": [
    "age_submission = pd.read_csv(os.path.join(out_dir, 'submission_5_age.csv'))\n",
    "print(age_submission)\n",
    "age_ans = age_submission.ans.values\n",
    "print(age_ans)"
   ],
   "outputs": [
    {
     "output_type": "stream",
     "name": "stdout",
     "text": [
      "                                            ImageID  ans\n",
      "0      cbc5c6e168e63498590db46022617123f1fe1268.jpg    0\n",
      "1      0e72482bf56b3581c081f7da2a6180b8792c7089.jpg    1\n",
      "2      b549040c49190cedc41327748aeb197c1670f14d.jpg    1\n",
      "3      4f9cb2a045c6d5b9e50ad3459ea7b791eb6e18bc.jpg    1\n",
      "4      248428d9a4a5b6229a7081c32851b90cb8d38d0c.jpg    0\n",
      "...                                             ...  ...\n",
      "12595  d71d4570505d6af8f777690e63edfa8d85ea4476.jpg    1\n",
      "12596  6cf1300e8e218716728d5820c0bab553306c2cfd.jpg    1\n",
      "12597  8140edbba31c3a824e817e6d5fb95343199e2387.jpg    0\n",
      "12598  030d439efe6fb5a7bafda45a393fc19f2bf57f54.jpg    1\n",
      "12599  f1e0b9594ae9f72571f0a9dc67406ad41f2edab0.jpg    1\n",
      "\n",
      "[12600 rows x 2 columns]\n",
      "[0 1 1 ... 0 1 1]\n"
     ]
    }
   ],
   "metadata": {}
  },
  {
   "cell_type": "code",
   "execution_count": 5,
   "source": [
    "gen_submission = pd.read_csv(os.path.join(out_dir, 'submission_5_gender.csv'))\n",
    "print(gen_submission)\n",
    "gen_ans = gen_submission.ans.values*3\n",
    "print(gen_ans)"
   ],
   "outputs": [
    {
     "output_type": "stream",
     "name": "stdout",
     "text": [
      "                                            ImageID  ans\n",
      "0      cbc5c6e168e63498590db46022617123f1fe1268.jpg    1\n",
      "1      0e72482bf56b3581c081f7da2a6180b8792c7089.jpg    1\n",
      "2      b549040c49190cedc41327748aeb197c1670f14d.jpg    1\n",
      "3      4f9cb2a045c6d5b9e50ad3459ea7b791eb6e18bc.jpg    1\n",
      "4      248428d9a4a5b6229a7081c32851b90cb8d38d0c.jpg    1\n",
      "...                                             ...  ...\n",
      "12595  d71d4570505d6af8f777690e63edfa8d85ea4476.jpg    1\n",
      "12596  6cf1300e8e218716728d5820c0bab553306c2cfd.jpg    1\n",
      "12597  8140edbba31c3a824e817e6d5fb95343199e2387.jpg    1\n",
      "12598  030d439efe6fb5a7bafda45a393fc19f2bf57f54.jpg    1\n",
      "12599  f1e0b9594ae9f72571f0a9dc67406ad41f2edab0.jpg    1\n",
      "\n",
      "[12600 rows x 2 columns]\n",
      "[3 3 3 ... 3 3 3]\n"
     ]
    }
   ],
   "metadata": {}
  },
  {
   "cell_type": "code",
   "execution_count": 6,
   "source": [
    "mask_submission = pd.read_csv(os.path.join(out_dir, 'submission_5_mask.csv'))\n",
    "print(mask_submission)\n",
    "mask_ans = mask_submission.ans.values*6\n",
    "print(mask_ans)"
   ],
   "outputs": [
    {
     "output_type": "stream",
     "name": "stdout",
     "text": [
      "                                            ImageID  ans\n",
      "0      cbc5c6e168e63498590db46022617123f1fe1268.jpg    2\n",
      "1      0e72482bf56b3581c081f7da2a6180b8792c7089.jpg    0\n",
      "2      b549040c49190cedc41327748aeb197c1670f14d.jpg    2\n",
      "3      4f9cb2a045c6d5b9e50ad3459ea7b791eb6e18bc.jpg    2\n",
      "4      248428d9a4a5b6229a7081c32851b90cb8d38d0c.jpg    2\n",
      "...                                             ...  ...\n",
      "12595  d71d4570505d6af8f777690e63edfa8d85ea4476.jpg    0\n",
      "12596  6cf1300e8e218716728d5820c0bab553306c2cfd.jpg    0\n",
      "12597  8140edbba31c3a824e817e6d5fb95343199e2387.jpg    1\n",
      "12598  030d439efe6fb5a7bafda45a393fc19f2bf57f54.jpg    0\n",
      "12599  f1e0b9594ae9f72571f0a9dc67406ad41f2edab0.jpg    1\n",
      "\n",
      "[12600 rows x 2 columns]\n",
      "[12  0 12 ...  6  0  6]\n"
     ]
    }
   ],
   "metadata": {}
  },
  {
   "cell_type": "code",
   "execution_count": 7,
   "source": [
    "ensemble_submission = mask_ans + age_ans + gen_ans\n",
    "print(ensemble_submission)\n",
    "print(max(ensemble_submission))\n",
    "print(min(ensemble_submission))"
   ],
   "outputs": [
    {
     "output_type": "stream",
     "name": "stdout",
     "text": [
      "[15  4 16 ...  9  4 10]\n",
      "16\n",
      "3\n"
     ]
    }
   ],
   "metadata": {}
  },
  {
   "cell_type": "code",
   "execution_count": 8,
   "source": [
    "submission['ans'] = ensemble_submission"
   ],
   "outputs": [],
   "metadata": {}
  },
  {
   "cell_type": "code",
   "execution_count": 24,
   "source": [
    "submission.to_csv(os.path.join(out_dir, f'submission_{str(5.5)}.csv'), index=False)"
   ],
   "outputs": [],
   "metadata": {}
  },
  {
   "cell_type": "code",
   "execution_count": 29,
   "source": [
    "import datetime \n",
    "from pytz import timezone\n",
    "\n",
    "now = datetime.datetime.now(timezone('Asia/Seoul'))\n",
    "print(now)\n"
   ],
   "outputs": [
    {
     "output_type": "stream",
     "name": "stdout",
     "text": [
      "2021-08-26 00:44:51.694408+09:00\n"
     ]
    }
   ],
   "metadata": {}
  },
  {
   "cell_type": "code",
   "execution_count": null,
   "source": [],
   "outputs": [],
   "metadata": {}
  }
 ],
 "metadata": {
  "orig_nbformat": 4,
  "language_info": {
   "name": "python",
   "version": "3.8.5",
   "mimetype": "text/x-python",
   "codemirror_mode": {
    "name": "ipython",
    "version": 3
   },
   "pygments_lexer": "ipython3",
   "nbconvert_exporter": "python",
   "file_extension": ".py"
  },
  "kernelspec": {
   "name": "python3",
   "display_name": "Python 3.8.5 64-bit ('base': conda)"
  },
  "interpreter": {
   "hash": "98b0a9b7b4eaaa670588a142fd0a9b87eaafe866f1db4228be72b4211d12040f"
  }
 },
 "nbformat": 4,
 "nbformat_minor": 2
}
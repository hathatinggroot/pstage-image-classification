{
 "cells": [
  {
   "cell_type": "markdown",
   "id": "about-heavy",
   "metadata": {},
   "source": [
    "# Data Processing"
   ]
  },
  {
   "cell_type": "markdown",
   "id": "96abb764-51b5-42bd-8f33-6d830af0cd9e",
   "metadata": {},
   "source": [
    "## 0. Dependencies"
   ]
  },
  {
   "cell_type": "code",
   "execution_count": 27,
   "id": "cubic-scoop",
   "metadata": {},
   "outputs": [
    {
     "name": "stdout",
     "output_type": "stream",
     "text": [
      "Requirement already satisfied: ipynb in /opt/conda/lib/python3.8/site-packages (0.5.1)\n"
     ]
    }
   ],
   "source": [
    "# !pip install ipynb\n",
    "\n",
    "import os\n",
    "import cv2\n",
    "import pandas as pd\n",
    "from PIL import Image\n",
    "import numpy as np\n",
    "\n",
    "import torch\n",
    "import torch.nn as nn\n",
    "import torch.nn.functional as F\n",
    "from torch.utils.data import Dataset, DataLoader\n",
    "\n",
    "from torchvision import transforms\n",
    "from torchvision.transforms import Resize, ToTensor, Normalize\n",
    "\n",
    "import matplotlib.pyplot as plt\n",
    "import seaborn as sns\n",
    "from tqdm.notebook import tqdm\n",
    "\n",
    "import ipynb.fs.full.model as m"
   ]
  },
  {
   "cell_type": "code",
   "execution_count": 28,
   "id": "73b51657-899e-41b6-892c-e53bca62e3b9",
   "metadata": {},
   "outputs": [
    {
     "data": {
      "text/plain": [
       "CrossEntropyLoss()"
      ]
     },
     "execution_count": 28,
     "metadata": {},
     "output_type": "execute_result"
    }
   ],
   "source": [
    "m.loss_fn"
   ]
  },
  {
   "cell_type": "code",
   "execution_count": 29,
   "id": "built-elevation",
   "metadata": {},
   "outputs": [],
   "source": [
    "train_dir = '/opt/ml/input/data/train'\n",
    "train_img_dir = os.path.join(train_dir, 'images')\n",
    "train_img_sub_dirs = [os.path.join(train_img_dir, sub_dir) for sub_dir in os.listdir(train_img_dir) if os.path.isdir(os.path.join(train_img_dir, sub_dir))]"
   ]
  },
  {
   "cell_type": "markdown",
   "id": "domestic-channels",
   "metadata": {},
   "source": [
    "## 1. Dataset"
   ]
  },
  {
   "cell_type": "code",
   "execution_count": 30,
   "id": "53dc7436-0643-4622-ae13-369b4e2acbbe",
   "metadata": {},
   "outputs": [],
   "source": [
    "default_img_paths = np.array([[os.path.join(sub_dir, img) for img in os.listdir(sub_dir) if not img.startswith('.')]  for sub_dir in train_img_sub_dirs]).flatten()\n",
    "\n",
    "default_transforms = transforms.Compose([\n",
    "    transforms.ToTensor()\n",
    "])"
   ]
  },
  {
   "cell_type": "code",
   "execution_count": 31,
   "id": "8756b49a-5e0a-47b3-b730-141dd46036f4",
   "metadata": {},
   "outputs": [],
   "source": [
    "class TrainDataset(Dataset):\n",
    "    def __init__(self, img_paths=default_img_paths, transforms=default_transforms):\n",
    "        self.train_info = pd.read_csv(os.path.join(train_dir, 'train.csv'))\n",
    "        self.train_info['label_weight'] = self._cal_label_weight(self.train_info['gender'], self.train_info['age'])\n",
    "        \n",
    "        self.img_paths = img_paths\n",
    "        self.transforms = transforms\n",
    "\n",
    "    def __getitem__(self, index):\n",
    "        img_path = self.img_paths[index]\n",
    "        image = Image.open(img_path)\n",
    "        tmp_dir, img_name = os.path.split(img_path)\n",
    "        _, person = os.path.split(tmp_dir)\n",
    "        \n",
    "        if self.transforms:\n",
    "            image = self.transforms(image)\n",
    "        \n",
    "        y = self._toY(person, img_name)\n",
    "        return image, y\n",
    "\n",
    "    def __len__(self):\n",
    "        return len(self.img_paths)\n",
    "    \n",
    "    def _cal_label_weight(self, gender, age):\n",
    "        weight = np.zeros(gender.shape)\n",
    "        # gender\n",
    "        weight += (gender == 'female')*3\n",
    "        # age\n",
    "        weight += ((age >= 30) & (age < 60))*1\n",
    "        weight += (age >= 60)*2\n",
    "\n",
    "        return weight\n",
    "    \n",
    "    def _toY(self, person, mask_label):\n",
    "        label_weight = self.train_info.query(f\"path == '{person}'\")['label_weight'].values[0]\n",
    "        mask_weight = 0\n",
    "        if mask_label.startswith('incorrect'):\n",
    "            mask_weight += 6\n",
    "        elif mask_label.startswith('normal'):\n",
    "            mask_weight += 12\n",
    "        return label_weight + mask_weight\n",
    "        \n",
    "    \n",
    "    def __repr__(self):\n",
    "        idx = np.random.randint(len(self))\n",
    "        X, y = self[idx]\n",
    "        return f'[{self.__class__.__name__}]\\n\\t length : {len(self)} \\n\\t y : {y} \\n\\t X.shape : {X.shape} \\n\\t X : \\n{X}'"
   ]
  },
  {
   "cell_type": "code",
   "execution_count": 32,
   "id": "00ad90aa-ef7e-470d-8883-a7e12dfbef1f",
   "metadata": {},
   "outputs": [],
   "source": [
    "train_set = TrainDataset()"
   ]
  },
  {
   "cell_type": "code",
   "execution_count": 33,
   "id": "0bb2c163-f533-42ad-856c-692800e1678c",
   "metadata": {},
   "outputs": [
    {
     "name": "stdout",
     "output_type": "stream",
     "text": [
      "[TrainDataset]\n",
      "\t length : 18900 \n",
      "\t y : 1.0 \n",
      "\t X.shape : torch.Size([3, 512, 384]) \n",
      "\t X : \n",
      "tensor([[[0.5529, 0.5529, 0.5529,  ..., 0.6980, 0.6980, 0.6980],\n",
      "         [0.5529, 0.5529, 0.5529,  ..., 0.6980, 0.6980, 0.6980],\n",
      "         [0.5529, 0.5529, 0.5529,  ..., 0.6980, 0.6980, 0.6980],\n",
      "         ...,\n",
      "         [0.1451, 0.1451, 0.1490,  ..., 0.1490, 0.1490, 0.1490],\n",
      "         [0.1451, 0.1451, 0.1490,  ..., 0.1451, 0.1451, 0.1490],\n",
      "         [0.1451, 0.1451, 0.1490,  ..., 0.1373, 0.1373, 0.1373]],\n",
      "\n",
      "        [[0.1333, 0.1333, 0.1333,  ..., 0.7529, 0.7529, 0.7529],\n",
      "         [0.1333, 0.1333, 0.1333,  ..., 0.7529, 0.7529, 0.7529],\n",
      "         [0.1333, 0.1333, 0.1333,  ..., 0.7529, 0.7529, 0.7529],\n",
      "         ...,\n",
      "         [0.0902, 0.0902, 0.0941,  ..., 0.0941, 0.0941, 0.0941],\n",
      "         [0.0902, 0.0902, 0.0941,  ..., 0.0902, 0.0902, 0.0941],\n",
      "         [0.0902, 0.0902, 0.0941,  ..., 0.0824, 0.0824, 0.0824]],\n",
      "\n",
      "        [[0.1725, 0.1725, 0.1725,  ..., 0.7529, 0.7529, 0.7529],\n",
      "         [0.1725, 0.1725, 0.1725,  ..., 0.7529, 0.7529, 0.7529],\n",
      "         [0.1725, 0.1725, 0.1725,  ..., 0.7529, 0.7529, 0.7529],\n",
      "         ...,\n",
      "         [0.0863, 0.0863, 0.0902,  ..., 0.0902, 0.0902, 0.0902],\n",
      "         [0.0863, 0.0863, 0.0902,  ..., 0.0863, 0.0863, 0.0902],\n",
      "         [0.0863, 0.0863, 0.0902,  ..., 0.0784, 0.0784, 0.0784]]])\n"
     ]
    }
   ],
   "source": [
    "print(train_set)"
   ]
  },
  {
   "cell_type": "markdown",
   "id": "34e28720-8b74-4300-9845-556b944b6e47",
   "metadata": {},
   "source": [
    "## 2. DataLoader"
   ]
  },
  {
   "cell_type": "code",
   "execution_count": 34,
   "id": "11a73710-7a20-49af-bfe6-2d48abbae566",
   "metadata": {},
   "outputs": [],
   "source": [
    "train_img_iter_basic = DataLoader(train_set)\n",
    "train_img_iter_batch = DataLoader(train_set,\n",
    "                           batch_size=100\n",
    "                           )\n",
    "train_img_iter_numworker = DataLoader(train_set,\n",
    "                           num_workers=3\n",
    "                           )\n",
    "train_img_iter_numworker_batch = DataLoader(train_set,\n",
    "                            batch_size=100,\n",
    "                            num_workers=3\n",
    "                           )"
   ]
  },
  {
   "cell_type": "code",
   "execution_count": 35,
   "id": "74b47a20-217b-4297-b3bb-f80b7ff7a30b",
   "metadata": {},
   "outputs": [],
   "source": [
    "# for i, (data, target) in tqdm(enumerate(train_img_iter_basic)):\n",
    "#     if i == 1000:\n",
    "#         break\n",
    "        "
   ]
  },
  {
   "cell_type": "code",
   "execution_count": 36,
   "id": "c3dcbe21-6de2-4da4-8670-11828e412bb4",
   "metadata": {},
   "outputs": [],
   "source": [
    "# for i, (data, target) in enumerate(tqdm(train_img_iter_batch)):\n",
    "#     if i == 10:\n",
    "#         break"
   ]
  },
  {
   "cell_type": "code",
   "execution_count": 37,
   "id": "767ad946-4790-47c2-9353-71d7617f3127",
   "metadata": {},
   "outputs": [],
   "source": [
    "# for i, (data, target) in enumerate(tqdm(train_img_iter_numworker)):\n",
    "#     if i == 1000:\n",
    "#         break"
   ]
  },
  {
   "cell_type": "code",
   "execution_count": 38,
   "id": "a972d066-8311-4b4b-91de-5dc0b5b47f95",
   "metadata": {},
   "outputs": [],
   "source": [
    "# for i, (data, target) in enumerate(tqdm(train_img_iter_numworker_batch)):\n",
    "#     if i == 10:\n",
    "#         break"
   ]
  },
  {
   "cell_type": "code",
   "execution_count": null,
   "id": "8c445098-c512-464f-a8a3-a657a3ec6d5a",
   "metadata": {},
   "outputs": [],
   "source": []
  }
 ],
 "metadata": {
  "kernelspec": {
   "display_name": "Python 3 (ipykernel)",
   "language": "python",
   "name": "python3"
  },
  "language_info": {
   "codemirror_mode": {
    "name": "ipython",
    "version": 3
   },
   "file_extension": ".py",
   "mimetype": "text/x-python",
   "name": "python",
   "nbconvert_exporter": "python",
   "pygments_lexer": "ipython3",
   "version": "3.8.5"
  }
 },
 "nbformat": 4,
 "nbformat_minor": 5
}

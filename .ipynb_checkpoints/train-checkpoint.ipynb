{
 "cells": [
  {
   "cell_type": "markdown",
   "id": "about-heavy",
   "metadata": {},
   "source": [
    "# Train"
   ]
  },
  {
   "cell_type": "markdown",
   "id": "96abb764-51b5-42bd-8f33-6d830af0cd9e",
   "metadata": {},
   "source": [
    "## 0. Dependencies"
   ]
  },
  {
   "cell_type": "code",
   "execution_count": null,
   "id": "cubic-scoop",
   "metadata": {},
   "outputs": [
    {
     "name": "stdout",
     "output_type": "stream",
     "text": [
      "[TrainDataset]\n",
      "\t length : 18900 \n",
      "\t y : 3.0 \n",
      "\t X.shape : torch.Size([3, 512, 384]) \n",
      "\t X : \n",
      "tensor([[[0.8157, 0.8157, 0.8157,  ..., 0.8431, 0.8431, 0.8431],\n",
      "         [0.8157, 0.8157, 0.8157,  ..., 0.8431, 0.8431, 0.8431],\n",
      "         [0.8157, 0.8157, 0.8157,  ..., 0.8431, 0.8431, 0.8431],\n",
      "         ...,\n",
      "         [0.6667, 0.6667, 0.6588,  ..., 0.6549, 0.6510, 0.6588],\n",
      "         [0.6706, 0.6667, 0.6549,  ..., 0.6510, 0.6471, 0.6627],\n",
      "         [0.6706, 0.6667, 0.6549,  ..., 0.6471, 0.6471, 0.6667]],\n",
      "\n",
      "        [[0.8000, 0.8000, 0.8000,  ..., 0.8275, 0.8275, 0.8275],\n",
      "         [0.8000, 0.8000, 0.8000,  ..., 0.8275, 0.8275, 0.8275],\n",
      "         [0.8000, 0.8000, 0.8000,  ..., 0.8275, 0.8275, 0.8275],\n",
      "         ...,\n",
      "         [0.0588, 0.0549, 0.0471,  ..., 0.0471, 0.0431, 0.0510],\n",
      "         [0.0627, 0.0549, 0.0431,  ..., 0.0431, 0.0392, 0.0549],\n",
      "         [0.0627, 0.0549, 0.0431,  ..., 0.0392, 0.0392, 0.0588]],\n",
      "\n",
      "        [[0.7882, 0.7882, 0.7882,  ..., 0.8157, 0.8157, 0.8157],\n",
      "         [0.7882, 0.7882, 0.7882,  ..., 0.8157, 0.8157, 0.8157],\n",
      "         [0.7882, 0.7882, 0.7882,  ..., 0.8157, 0.8157, 0.8157],\n",
      "         ...,\n",
      "         [0.0745, 0.0706, 0.0627,  ..., 0.0392, 0.0353, 0.0431],\n",
      "         [0.0784, 0.0706, 0.0588,  ..., 0.0353, 0.0314, 0.0471],\n",
      "         [0.0784, 0.0706, 0.0588,  ..., 0.0314, 0.0314, 0.0510]]])\n"
     ]
    }
   ],
   "source": [
    "# !pip install -y ipynb\n",
    "\n",
    "import os\n",
    "import cv2\n",
    "import pandas as pd\n",
    "from PIL import Image\n",
    "import numpy as np\n",
    "\n",
    "import torch\n",
    "import torch.nn as nn\n",
    "import torch.nn.functional as F\n",
    "from torch.utils.data import Dataset, DataLoader\n",
    "\n",
    "from torchvision import transforms\n",
    "from torchvision.transforms import Resize, ToTensor, Normalize\n",
    "\n",
    "import matplotlib.pyplot as plt\n",
    "import seaborn as sns\n",
    "from tqdm.notebook import tqdm\n",
    "\n",
    "import ipynb.fs.full.model as M\n",
    "import ipynb.fs.full.dataprocessing as D"
   ]
  },
  {
   "cell_type": "markdown",
   "id": "domestic-channels",
   "metadata": {},
   "source": [
    "## 1. Train"
   ]
  },
  {
   "cell_type": "code",
   "execution_count": null,
   "id": "42e9fe41-96c4-42bf-84dc-97f48fa65993",
   "metadata": {},
   "outputs": [
    {
     "name": "stdout",
     "output_type": "stream",
     "text": [
      "cuda:0\n"
     ]
    }
   ],
   "source": [
    "device = torch.device('cuda:0' if torch.cuda.is_available() else 'cpu')\n",
    "print(device)"
   ]
  },
  {
   "cell_type": "code",
   "execution_count": null,
   "id": "f707869c-c374-4db4-9bf8-c4fce1b6e1a1",
   "metadata": {},
   "outputs": [
    {
     "name": "stdout",
     "output_type": "stream",
     "text": [
      "Done\n"
     ]
    }
   ],
   "source": [
    "def func_eval(model,data_iter,device):\n",
    "    with torch.no_grad():\n",
    "        n_total,n_correct = 0,0\n",
    "        model.eval() # evaluate (affects DropOut and BN)\n",
    "        for batch_in,batch_out in data_iter:\n",
    "            y_trgt = batch_out.to(device)\n",
    "            model_pred = model.forward(batch_in.to(device))\n",
    "            _,y_pred = torch.max(model_pred,1)\n",
    "            n_correct += (y_pred==y_trgt).sum().item()\n",
    "            n_total += batch_in.size(0)\n",
    "        val_accr = (n_correct/n_total)\n",
    "        model.train() # back to train mode \n",
    "    return val_accr\n",
    "print (\"Done\")"
   ]
  },
  {
   "cell_type": "markdown",
   "id": "293a5b9e-59c1-4852-9c47-975464a01506",
   "metadata": {},
   "source": [
    "### Hyper Params"
   ]
  },
  {
   "cell_type": "code",
   "execution_count": null,
   "id": "2c995b4a-f7c2-4a5d-9b61-c2dcde69506e",
   "metadata": {},
   "outputs": [],
   "source": [
    "\n",
    "lr = 1e-3\n",
    "model = M.MyModel().to(device)\n",
    "loss_fn = nn.CrossEntropyLoss()\n",
    "optimzier = torch.optim.Adam(model.parameters(), lr=lr)\n",
    "\n",
    "EPOCHS = 100\n",
    "EPOCH_EVERY = 10"
   ]
  },
  {
   "cell_type": "code",
   "execution_count": null,
   "id": "ba609f2e-0780-4807-9ed1-53735a0091a0",
   "metadata": {},
   "outputs": [],
   "source": [
    "train_accr = func_eval(model, "
   ]
  },
  {
   "cell_type": "code",
   "execution_count": null,
   "id": "53f2401c-ed65-40d4-8a15-6a31a8523b35",
   "metadata": {},
   "outputs": [],
   "source": [
    "print('Start training...')\n",
    "model.train()\n",
    "for epoch in range(EPOCHS):\n",
    "    loss_sum = 0\n",
    "    for X, y in D.train_img_iter_basic:\n",
    "        y_hat = model(X.to(device))\n",
    "        loss_out = loss_fn(y, y_hat.to(device))\n",
    "        \n",
    "        optimizer.zero_grad()\n",
    "        loss_out.backward()\n",
    "        optimizer.step()\n",
    "        \n",
    "        loss_sum += loss_out\n",
    "    loss_avg = loss_sum / len(D.train_img_iter_basic)\n",
    "    \n",
    "    if (epoch & EPOCH_EVERY == 0) or epoch==EPOCH-1:\n",
    "        \n",
    "        \n"
   ]
  }
 ],
 "metadata": {
  "interpreter": {
   "hash": "98b0a9b7b4eaaa670588a142fd0a9b87eaafe866f1db4228be72b4211d12040f"
  },
  "kernelspec": {
   "display_name": "Python 3.8.5 64-bit ('base': conda)",
   "name": "python3"
  },
  "language_info": {
   "codemirror_mode": {
    "name": "ipython",
    "version": 3
   },
   "file_extension": ".py",
   "mimetype": "text/x-python",
   "name": "python",
   "nbconvert_exporter": "python",
   "pygments_lexer": "ipython3",
   "version": "3.8.5"
  }
 },
 "nbformat": 4,
 "nbformat_minor": 5
}

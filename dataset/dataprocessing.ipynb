{
 "cells": [
  {
   "cell_type": "markdown",
   "source": [
    "# Data Processing"
   ],
   "metadata": {}
  },
  {
   "cell_type": "markdown",
   "source": [
    "## 0. Dependencies"
   ],
   "metadata": {}
  },
  {
   "cell_type": "code",
   "execution_count": 1,
   "source": [
    "# !pip install ipynb\n",
    "\n",
    "import os\n",
    "import cv2\n",
    "import pandas as pd\n",
    "from PIL import Image\n",
    "import numpy as np\n",
    "\n",
    "import torch\n",
    "import torch.nn as nn\n",
    "import torch.nn.functional as F\n",
    "from torch.utils.data import Dataset, DataLoader\n",
    "\n",
    "from torchvision import transforms\n",
    "from torchvision.transforms import Resize, ToTensor, Normalize\n",
    "\n",
    "import matplotlib.pyplot as plt\n",
    "import seaborn as sns\n",
    "from tqdm.notebook import tqdm\n"
   ],
   "outputs": [],
   "metadata": {}
  },
  {
   "cell_type": "code",
   "execution_count": 2,
   "source": [
    "train_dir = '/opt/ml/input/data/train'\n",
    "train_img_dir = os.path.join(train_dir, 'images')\n",
    "train_img_sub_dirs = [os.path.join(train_img_dir, sub_dir) for sub_dir in os.listdir(train_img_dir) if os.path.isdir(os.path.join(train_img_dir, sub_dir))]"
   ],
   "outputs": [],
   "metadata": {}
  },
  {
   "cell_type": "markdown",
   "source": [
    "## 1. Dataset"
   ],
   "metadata": {}
  },
  {
   "cell_type": "code",
   "execution_count": 3,
   "source": [
    "default_img_paths = np.array([[os.path.join(sub_dir, img) for img in os.listdir(sub_dir) if not img.startswith('.')]  for sub_dir in train_img_sub_dirs]).flatten()\n",
    "\n",
    "default_transforms = transforms.Compose([\n",
    "    transforms.ToTensor()\n",
    "])"
   ],
   "outputs": [],
   "metadata": {}
  },
  {
   "cell_type": "code",
   "execution_count": 8,
   "source": [
    "class TrainDataset(Dataset):\n",
    "    def __init__(self, img_paths=default_img_paths, transforms=default_transforms):\n",
    "        self.train_info = pd.read_csv(os.path.join(train_dir, 'train.csv'))\n",
    "        self.train_info['label_weight'] = self._cal_label_weight(self.train_info['gender'], self.train_info['age'])\n",
    "        \n",
    "        self.img_paths = img_paths\n",
    "        self.transforms = transforms\n",
    "\n",
    "    def __getitem__(self, index):\n",
    "        img_path = self.img_paths[index]\n",
    "        image = Image.open(img_path)\n",
    "        tmp_dir, img_name = os.path.split(img_path)\n",
    "        _, person = os.path.split(tmp_dir)\n",
    "        \n",
    "        if self.transforms:\n",
    "            image = self.transforms(image)\n",
    "        \n",
    "        y = self._toY(person, img_name)\n",
    "        return image, y\n",
    "\n",
    "    def __len__(self):\n",
    "        return len(self.img_paths)\n",
    "    \n",
    "    def _cal_label_weight(self, gender, age):\n",
    "        weight = np.zeros(gender.shape)\n",
    "        # gender\n",
    "        weight += (gender == 'female')*3\n",
    "        # age\n",
    "        weight += ((age >= 30) & (age < 60))*1\n",
    "        weight += (age >= 60)*2\n",
    "\n",
    "        return weight\n",
    "    \n",
    "    def _toY(self, person, mask_label):\n",
    "        label_weight = self.train_info.query(f\"path == '{person}'\")['label_weight'].values[0]\n",
    "        mask_weight = 0\n",
    "        if mask_label.startswith('incorrect'):\n",
    "            mask_weight += 6\n",
    "        elif mask_label.startswith('normal'):\n",
    "            mask_weight += 12\n",
    "        return label_weight + mask_weight\n",
    "        \n",
    "    \n",
    "    def __repr__(self):\n",
    "        idx = np.random.randint(len(self))\n",
    "        X, y = self[idx]\n",
    "        return f'[{self.__class__.__name__}]\\n\\t length : {len(self)} \\n\\t y : {y} \\n\\t X.shape : {X.shape} \\n\\t X : \\n{X}'"
   ],
   "outputs": [],
   "metadata": {}
  },
  {
   "cell_type": "code",
   "execution_count": 10,
   "source": [
    "\n",
    "train_set = TrainDataset()"
   ],
   "outputs": [],
   "metadata": {}
  },
  {
   "cell_type": "code",
   "execution_count": 11,
   "source": [
    "print(train_set)"
   ],
   "outputs": [
    {
     "output_type": "stream",
     "name": "stdout",
     "text": [
      "[TrainDataset]\n",
      "\t length : 18900 \n",
      "\t y : 12.0 \n",
      "\t X.shape : torch.Size([3, 512, 384]) \n",
      "\t X : \n",
      "tensor([[[0.7412, 0.7451, 0.7490,  ..., 0.6667, 0.6667, 0.6667],\n",
      "         [0.7451, 0.7451, 0.7490,  ..., 0.6667, 0.6667, 0.6667],\n",
      "         [0.7490, 0.7490, 0.7529,  ..., 0.6667, 0.6667, 0.6667],\n",
      "         ...,\n",
      "         [0.3216, 0.4000, 0.6157,  ..., 0.0118, 0.1294, 0.2824],\n",
      "         [0.3569, 0.5412, 0.6902,  ..., 0.0157, 0.0863, 0.1961],\n",
      "         [0.4078, 0.6392, 0.7098,  ..., 0.0196, 0.0549, 0.1373]],\n",
      "\n",
      "        [[0.7294, 0.7333, 0.7373,  ..., 0.6549, 0.6549, 0.6549],\n",
      "         [0.7333, 0.7333, 0.7373,  ..., 0.6549, 0.6549, 0.6549],\n",
      "         [0.7373, 0.7373, 0.7412,  ..., 0.6549, 0.6549, 0.6549],\n",
      "         ...,\n",
      "         [0.3255, 0.4039, 0.6196,  ..., 0.0118, 0.1294, 0.2824],\n",
      "         [0.3608, 0.5451, 0.6941,  ..., 0.0157, 0.0863, 0.1961],\n",
      "         [0.4118, 0.6431, 0.7137,  ..., 0.0196, 0.0549, 0.1373]],\n",
      "\n",
      "        [[0.7020, 0.7059, 0.7098,  ..., 0.6275, 0.6275, 0.6275],\n",
      "         [0.7059, 0.7059, 0.7098,  ..., 0.6275, 0.6275, 0.6275],\n",
      "         [0.7098, 0.7098, 0.7137,  ..., 0.6275, 0.6275, 0.6275],\n",
      "         ...,\n",
      "         [0.3059, 0.3843, 0.6000,  ..., 0.0039, 0.1216, 0.2745],\n",
      "         [0.3412, 0.5255, 0.6745,  ..., 0.0078, 0.0784, 0.1882],\n",
      "         [0.3922, 0.6235, 0.6941,  ..., 0.0118, 0.0471, 0.1294]]])\n"
     ]
    }
   ],
   "metadata": {}
  },
  {
   "cell_type": "markdown",
   "source": [
    "## 2. DataLoader"
   ],
   "metadata": {}
  },
  {
   "cell_type": "code",
   "execution_count": 34,
   "source": [
    "train_img_iter_basic = DataLoader(train_set)\n",
    "train_img_iter_batch = DataLoader(train_set,\n",
    "                           batch_size=100\n",
    "                           )\n",
    "train_img_iter_numworker = DataLoader(train_set,\n",
    "                           num_workers=3\n",
    "                           )\n",
    "train_img_iter_numworker_batch = DataLoader(train_set,\n",
    "                            batch_size=100,\n",
    "                            num_workers=3\n",
    "                           )"
   ],
   "outputs": [],
   "metadata": {}
  },
  {
   "cell_type": "code",
   "execution_count": 35,
   "source": [
    "# for i, (data, target) in tqdm(enumerate(train_img_iter_basic)):\n",
    "#     if i == 1000:\n",
    "#         break\n",
    "        "
   ],
   "outputs": [],
   "metadata": {}
  },
  {
   "cell_type": "code",
   "execution_count": 36,
   "source": [
    "# for i, (data, target) in enumerate(tqdm(train_img_iter_batch)):\n",
    "#     if i == 10:\n",
    "#         break"
   ],
   "outputs": [],
   "metadata": {}
  },
  {
   "cell_type": "code",
   "execution_count": 37,
   "source": [
    "# for i, (data, target) in enumerate(tqdm(train_img_iter_numworker)):\n",
    "#     if i == 1000:\n",
    "#         break"
   ],
   "outputs": [],
   "metadata": {}
  },
  {
   "cell_type": "code",
   "execution_count": 38,
   "source": [
    "# for i, (data, target) in enumerate(tqdm(train_img_iter_numworker_batch)):\n",
    "#     if i == 10:\n",
    "#         break"
   ],
   "outputs": [],
   "metadata": {}
  },
  {
   "cell_type": "code",
   "execution_count": null,
   "source": [],
   "outputs": [],
   "metadata": {}
  }
 ],
 "metadata": {
  "kernelspec": {
   "name": "python3",
   "display_name": "Python 3.8.5 64-bit ('base': conda)"
  },
  "language_info": {
   "codemirror_mode": {
    "name": "ipython",
    "version": 3
   },
   "file_extension": ".py",
   "mimetype": "text/x-python",
   "name": "python",
   "nbconvert_exporter": "python",
   "pygments_lexer": "ipython3",
   "version": "3.8.5"
  },
  "interpreter": {
   "hash": "98b0a9b7b4eaaa670588a142fd0a9b87eaafe866f1db4228be72b4211d12040f"
  }
 },
 "nbformat": 4,
 "nbformat_minor": 5
}